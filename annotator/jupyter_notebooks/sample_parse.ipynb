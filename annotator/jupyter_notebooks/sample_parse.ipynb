{
 "cells": [
  {
   "cell_type": "code",
   "execution_count": 1,
   "metadata": {},
   "outputs": [],
   "source": [
    "import pandas as pd\n",
    "import os\n",
    "os.chdir('/app')\n",
    "df = pd.read_csv('../csv/write_db_01_Mar_20.csv')"
   ]
  },
  {
   "cell_type": "code",
   "execution_count": 2,
   "metadata": {},
   "outputs": [],
   "source": [
    "FULL_CONDITION = ['callsign','squad_code','time_index']\n",
    "def _assign_temp_id(df):\n",
    "    assert 'temp_id' not in df.columns\n",
    "    df_sum = pd.DataFrame(df.groupby(FULL_CONDITION).first())\n",
    "    df_sum.loc[:,'temp_id'] = range(len(df_sum))\n",
    "    df = df.join(df_sum[['temp_id']],how='left',on=FULL_CONDITION)\n",
    "    return df\n",
    "\n",
    "df = _assign_temp_id(df)\n",
    "\n",
    "\n",
    "for name,chunk in df.groupby(FULL_CONDITION):\n",
    "    \n",
    "    aa = chunk.drop(columns=FULL_CONDITION)\n",
    "    aa = aa[['latitude','longitude','speed','altitude','bearing','datetime','temp_id','millisecond']]\n",
    "    aa.to_csv('../csv/sample_data.csv',index=False)\n",
    "    \n",
    "    break\n",
    "    "
   ]
  }
 ],
 "metadata": {
  "kernelspec": {
   "display_name": "Python 3",
   "language": "python",
   "name": "python3"
  },
  "language_info": {
   "codemirror_mode": {
    "name": "ipython",
    "version": 3
   },
   "file_extension": ".py",
   "mimetype": "text/x-python",
   "name": "python",
   "nbconvert_exporter": "python",
   "pygments_lexer": "ipython3",
   "version": "3.8.3"
  }
 },
 "nbformat": 4,
 "nbformat_minor": 4
}
